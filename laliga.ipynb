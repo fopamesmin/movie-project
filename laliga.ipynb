{
  "nbformat": 4,
  "nbformat_minor": 0,
  "metadata": {
    "colab": {
      "provenance": [],
      "authorship_tag": "ABX9TyOe2PB1kzE3DG99J1GwJYUb",
      "include_colab_link": true
    },
    "kernelspec": {
      "name": "python3",
      "display_name": "Python 3"
    },
    "language_info": {
      "name": "python"
    }
  },
  "cells": [
    {
      "cell_type": "markdown",
      "metadata": {
        "id": "view-in-github",
        "colab_type": "text"
      },
      "source": [
        "<a href=\"https://colab.research.google.com/github/fopamesmin/movie-project/blob/main/laliga.ipynb\" target=\"_parent\"><img src=\"https://colab.research.google.com/assets/colab-badge.svg\" alt=\"Open In Colab\"/></a>"
      ]
    },
    {
      "cell_type": "code",
      "execution_count": 1,
      "metadata": {
        "colab": {
          "base_uri": "https://localhost:8080/"
        },
        "id": "wApL2WLxLsJZ",
        "outputId": "7a8d63f1-fd5b-4f16-8a22-ae08a7ad2628"
      },
      "outputs": [
        {
          "output_type": "stream",
          "name": "stdout",
          "text": [
            "Collecting colorama\n",
            "  Downloading colorama-0.4.6-py2.py3-none-any.whl (25 kB)\n",
            "Installing collected packages: colorama\n",
            "Successfully installed colorama-0.4.6\n"
          ]
        }
      ],
      "source": [
        "pip install colorama"
      ]
    },
    {
      "cell_type": "code",
      "source": [
        "import os\n",
        "import pandas as pd\n",
        "import requests as req\n",
        "from bs4 import BeautifulSoup as BS\n",
        "import logging\n",
        "\n",
        "# Constants\n",
        "sofifa_url = \"https://www.laliga.com/en-ES/laliga-easports/standing\"\n",
        "COLUMNS = [\"position\", \"team\", \"Points\", \"w\", \"D\", \"L\", \"GF\", \"GA\", \"GD\"]\n",
        "ID_seasonId = [\"2022/2023\"]\n",
        "\n",
        "headers = {\n",
        "    'User-Agent': 'Mozilla/5.0 (Macintosh; Intel Mac OS X 10_11_5) AppleWebKit/537.36 (KHTML, like Gecko) Chrome/50.0.2661.102 Safari/537.36'\n",
        "}\n",
        "\n",
        "logging.basicConfig(level=logging.INFO)\n",
        "dataset_url = \"./DataSet\"\n",
        "# Ensure the directory exists\n",
        "os.makedirs(dataset_url, exist_ok=True)\n",
        "\n",
        "for season in ID_seasonId:\n",
        "    teams_list = []\n",
        "\n",
        "    response = req.get(sofifa_url, headers=headers)\n",
        "\n",
        "    if response.status_code == req.codes.ok:\n",
        "        soup = BS(response.content, \"lxml\")\n",
        "\n",
        "        # Find the table rows containing the standings\n",
        "        rows = soup.select(\"div.styled__StandingTabBody-sc-e89col-0.isRHqh\")\n",
        "\n",
        "        for row in rows:\n",
        "            team_data = []\n",
        "            try:\n",
        "                # Extract data using the appropriate classes\n",
        "                position = row.find(\"div\", class_=\"styled__Td-sc-e89col-10 fTFWtb\").find(\"p\").text.strip()\n",
        "                team = row.find(\"div\", class_=\"styled__ShieldContainer-sc-1opls7r-0 eIaTDi shield-desktop\").find(\"p\").text.strip()\n",
        "                points = row.find_all(\"div\", class_=\"styled__Td-sc-e89col-10 feNufd\")[0].find(\"p\").text.strip()\n",
        "                W = row.find_all(\"div\", class_=\"styled__Td-sc-e89col-10 feNufd\")[1].find(\"p\").text.strip()\n",
        "                d = row.find_all(\"div\", class_=\"styled__Td-sc-e89col-10 feNufd\")[2].find(\"p\").text.strip()\n",
        "                l = row.find_all(\"div\", class_=\"styled__Td-sc-e89col-10 feNufd\")[3].find(\"p\").text.strip()\n",
        "                gf = row.find_all(\"div\", class_=\"styled__Td-sc-e89col-10 feNufd\")[4].find(\"p\").text.strip()\n",
        "                ga = row.find_all(\"div\", class_=\"styled__Td-sc-e89col-10 feNufd\")[5].find(\"p\").text.strip()\n",
        "                gd = row.find_all(\"div\", class_=\"styled__Td-sc-e89col-10 feNufd\")[6].find(\"p\").text.strip()\n",
        "\n",
        "                team_data.extend([position, team, points, w, d, l, gf, ga, gd])\n",
        "                teams_list.append(team_data)\n",
        "            except Exception as e:\n",
        "                logging.error(f\"Error parsing row: {e}\")\n",
        "                continue\n",
        "\n",
        "    else:\n",
        "        logging.error(f\"Failed to retrieve data for season {season}\")\n",
        "\n",
        "    df = pd.DataFrame(teams_list, columns=COLUMNS)\n",
        "\n",
        "    csv_file_path = os.path.join(dataset_url, f\"{season.replace('/', '-')}.csv\")\n",
        "    df.to_csv(csv_file_path, header=True, index=False)\n",
        "\n",
        "    print(f\"Data for season {season}:\\n\", df)\n",
        "    #df_20 = pd.read_csv(\"/content/drive/MyDrive/DataSet/season.csv\")"
      ],
      "metadata": {
        "colab": {
          "base_uri": "https://localhost:8080/"
        },
        "id": "Nf-2MEmZLvgo",
        "outputId": "d41652c8-eb19-44ef-f92d-f926c08d2821"
      },
      "execution_count": 14,
      "outputs": [
        {
          "output_type": "stream",
          "name": "stdout",
          "text": [
            "Data for season 2022/2023:\n",
            "    position                team Points   w   D   L  GF  GA  GD\n",
            "0         1         Real Madrid     94  37  29   7   1  87  26\n",
            "1         2        FC Barcelona     82  37  25   7   5  77  43\n",
            "2         3           Girona FC     81  38  25   6   7  85  46\n",
            "3         4  Atlético de Madrid     73  37  23   4  10  68  43\n",
            "4         5       Athletic Club     65  37  18  11   8  60  37\n",
            "5         6       Real Sociedad     60  37  16  12   9  51  37\n",
            "6         7          Real Betis     56  37  14  14   9  48  45\n",
            "7         8       Villarreal CF     52  37  14  10  13  64  64\n",
            "8         9         Valencia CF     48  37  13   9  15  38  43\n",
            "9        10    Deportivo Alavés     45  37  12   9  16  35  45\n",
            "10       11          CA Osasuna     44  37  12   8  17  44  55\n",
            "11       12           Getafe CF     43  37  10  13  14  41  52\n",
            "12       13          Sevilla FC     41  37  10  11  16  47  52\n",
            "13       14            RC Celta     40  37  10  10  17  44  55\n",
            "14       15       UD Las Palmas     39  37  10   9  18  32  46\n",
            "15       16      Rayo Vallecano     38  37   8  14  15  29  47\n",
            "16       17        RCD Mallorca     37  37   7  16  14  31  43\n",
            "17       18            Cádiz CF     33  37   6  15  16  25  49\n",
            "18       19          Granada CF     21  38   4   9  25  38  79\n",
            "19       20          UD Almería     18  37   2  12  23  37  74\n",
            "20        1         Real Madrid     50  18  16   2   0  48   9\n",
            "21        2  Atlético de Madrid     49  19  16   1   2  42  22\n",
            "22        3           Girona FC     47  19  15   2   2  53  20\n",
            "23        4        FC Barcelona     46  19  15   1   3  43  21\n",
            "24        5       Athletic Club     42  19  12   6   1  42  18\n",
            "25        6          Real Betis     34  19   9   7   3  27  19\n",
            "26        7    Deportivo Alavés     31  19   9   4   6  23  19\n",
            "27        8       Real Sociedad     30  18   8   6   4  26  18\n",
            "28        9         Valencia CF     30  19   8   6   5  20  14\n",
            "29       10           Getafe CF     29  18   8   5   5  19  20\n",
            "30       11       Villarreal CF     26  19   7   5   7  36  32\n",
            "31       12        RCD Mallorca     26  19   6   8   5  17  16\n",
            "32       13            Cádiz CF     24  19   5   9   5  16  19\n",
            "33       14          Sevilla FC     23  18   6   5   7  26  25\n",
            "34       15       UD Las Palmas     23  18   6   5   7  19  19\n",
            "35       16            RC Celta     23  18   6   5   7  19  21\n",
            "36       17          CA Osasuna     22  18   6   4   8  18  25\n",
            "37       18      Rayo Vallecano     20  18   4   8   6  18  25\n",
            "38       19          Granada CF     18  19   4   6   9  24  32\n",
            "39       20          UD Almería      8  18   0   8  10  16  35\n",
            "40        1         Real Madrid     44  19  13   5   1  39  17\n",
            "41        2        FC Barcelona     36  18  10   6   2  34  22\n",
            "42        3           Girona FC     34  19  10   4   5  32  26\n",
            "43        4       Real Sociedad     30  19   8   6   5  25  19\n",
            "44        5       Villarreal CF     26  18   7   5   6  28  32\n",
            "45        6  Atlético de Madrid     24  18   7   3   8  26  21\n",
            "46        7       Athletic Club     23  18   6   5   7  18  19\n",
            "47        8          CA Osasuna     22  19   6   4   9  26  30\n",
            "48        9          Real Betis     22  18   5   7   6  21  26\n",
            "49       10          Sevilla FC     18  19   4   6   9  21  27\n",
            "50       11         Valencia CF     18  18   5   3  10  18  29\n",
            "51       12      Rayo Vallecano     18  19   4   6   9  11  22\n",
            "52       13            RC Celta     17  19   4   5  10  25  34\n",
            "53       14       UD Las Palmas     16  19   4   4  11  13  27\n",
            "54       15           Getafe CF     14  19   2   8   9  22  32\n",
            "55       16    Deportivo Alavés     14  18   3   5  10  12  26\n",
            "56       17        RCD Mallorca     11  18   1   8   9  14  27\n",
            "57       18          UD Almería     10  19   2   4  13  21  39\n",
            "58       19            Cádiz CF      9  18   1   6  11   9  30\n",
            "59       20          Granada CF      3  19   0   3  16  14  47\n"
          ]
        }
      ]
    },
    {
      "cell_type": "code",
      "source": [
        "from google.colab import drive\n",
        "drive.mount('/content/drive')"
      ],
      "metadata": {
        "colab": {
          "base_uri": "https://localhost:8080/"
        },
        "id": "3QKRfVuCQoVw",
        "outputId": "278470e2-2637-4422-b363-585bf2a41644"
      },
      "execution_count": 8,
      "outputs": [
        {
          "output_type": "stream",
          "name": "stdout",
          "text": [
            "Drive already mounted at /content/drive; to attempt to forcibly remount, call drive.mount(\"/content/drive\", force_remount=True).\n"
          ]
        }
      ]
    },
    {
      "cell_type": "code",
      "source": [
        "dataset_url = \"/content/drive/MyDrive/DataSet\""
      ],
      "metadata": {
        "id": "I3anb2DKRPcK"
      },
      "execution_count": 9,
      "outputs": []
    },
    {
      "cell_type": "code",
      "source": [
        "#Conversion des colonnes en entiers :\n",
        "df['w'] = df['w'].astype(int)\n",
        "df['Points'] = df['Points'].astype(int)"
      ],
      "metadata": {
        "id": "2uQyb_CDWZer"
      },
      "execution_count": 15,
      "outputs": []
    },
    {
      "cell_type": "code",
      "source": [
        "# Somme des victoires\n",
        "nombre_victoires = df['w'].sum()"
      ],
      "metadata": {
        "id": "0IeAEpxQWr3O"
      },
      "execution_count": 16,
      "outputs": []
    },
    {
      "cell_type": "code",
      "source": [
        " # Somme des matchs joués\n",
        "nombre_matchs_joues = df[['w', 'D', 'L']].astype(int).sum().sum()"
      ],
      "metadata": {
        "id": "p8JvzC9WW70T"
      },
      "execution_count": 17,
      "outputs": []
    },
    {
      "cell_type": "code",
      "source": [
        "#Calcul du pourcentage de victoires :\n",
        "pourcentage_victoires = (nombre_victoires / nombre_matchs_joues) * 100"
      ],
      "metadata": {
        "id": "wlF44KHPW9xI"
      },
      "execution_count": 20,
      "outputs": []
    },
    {
      "cell_type": "code",
      "source": [
        "#Affichage du pourcentage de victoires :\n",
        "print(\"Pourcentage moyen de victoires :\", pourcentage_victoires)"
      ],
      "metadata": {
        "colab": {
          "base_uri": "https://localhost:8080/"
        },
        "id": "9DY9M69hX5ch",
        "outputId": "514e6c17-0281-4a88-de58-a7d47f29dfe6"
      },
      "execution_count": 22,
      "outputs": [
        {
          "output_type": "stream",
          "name": "stdout",
          "text": [
            "Pourcentage moyen de victoires : 61.01973684210527\n"
          ]
        }
      ]
    },
    {
      "cell_type": "code",
      "source": [
        "# Calcul des statistiques\n",
        "#Conversion des colonnes en entiers :\n",
        "df['D'] = df['D'].astype(int)\n",
        "df['L'] = df['L'].astype(int)\n",
        "\n",
        "# Nombre de matchs nuls\n",
        "nombre_matchs_nuls = df['D'].sum()  # Somme des matchs nuls\n",
        "# Nombre de matchs joués\n",
        "nombre_matchs_joues = df[['W', 'D', 'L']].sum().sum()  # Somme des matchs joués\n",
        "\n",
        "# Calcul du pourcentage de matchs nuls\n",
        "pourcentage_matchs_nuls = (nombre_matchs_nuls / nombre_matchs_joues) * 100\n",
        "\n",
        "print(\"Pourcentage moyen de matchs nuls :\", pourcentage_matchs_nuls)"
      ],
      "metadata": {
        "colab": {
          "base_uri": "https://localhost:8080/"
        },
        "id": "rUpujLXiZAmn",
        "outputId": "2c1306c2-131b-4f29-c241-2135f3f04940"
      },
      "execution_count": 28,
      "outputs": [
        {
          "output_type": "stream",
          "name": "stdout",
          "text": [
            "Pourcentage moyen de matchs nuls : 22.039473684210524\n"
          ]
        }
      ]
    },
    {
      "cell_type": "code",
      "source": [
        "import os\n",
        "import pandas as pd\n",
        "import requests as req\n",
        "from bs4 import BeautifulSoup as BS\n",
        "import logging\n",
        "from sklearn.model_selection import train_test_split\n",
        "from sklearn.linear_model import LinearRegression\n",
        "from sklearn.metrics import mean_absolute_error\n",
        "\n",
        "# Constants\n",
        "sofifa_url = \"https://www.laliga.com/en-ES/laliga-easports/standing\"\n",
        "COLUMNS = [\"position\", \"team\", \"Points\", \"W\", \"D\", \"L\", \"GF\", \"GA\", \"GD\"]\n",
        "ID_seasonId = [\"2018/2019\", \"2019/2020\", \"2020/2021\", \"2021/2022\", \"2022/2023\"]\n",
        "headers = {'User-Agent': 'Mozilla/5.0 (Macintosh; Intel Mac OS X 10_11_5) AppleWebKit/537.36 (KHTML, like Gecko) Chrome/50.0.2661.102 Safari/537.36'}\n",
        "logging.basicConfig(level=logging.INFO)\n",
        "dataset_url = \"./DataSet\"\n",
        "os.makedirs(dataset_url, exist_ok=True)\n",
        "\n",
        "def fetch_data(season):\n",
        "    teams_list = []\n",
        "    response = req.get(sofifa_url, headers=headers)\n",
        "    if response.status_code == req.codes.ok:\n",
        "        soup = BS(response.content, \"lxml\")\n",
        "        rows = soup.select(\"div.styled__StandingTabBody-sc-e89col-0.isRHqh\")\n",
        "        for row in rows:\n",
        "            team_data = []\n",
        "            try:\n",
        "                position = row.find(\"div\", class_=\"styled__Td-sc-e89col-10 fTFWtb\").find(\"p\").text.strip()\n",
        "                team = row.find(\"div\", class_=\"styled__ShieldContainer-sc-1opls7r-0 eIaTDi shield-desktop\").find(\"p\").text.strip()\n",
        "                points = row.find_all(\"div\", class_=\"styled__Td-sc-e89col-10 feNufd\")[0].find(\"p\").text.strip()\n",
        "                w = row.find_all(\"div\", class_=\"styled__Td-sc-e89col-10 feNufd\")[1].find(\"p\").text.strip()\n",
        "                d = row.find_all(\"div\", class_=\"styled__Td-sc-e89col-10 feNufd\")[2].find(\"p\").text.strip()\n",
        "                l = row.find_all(\"div\", class_=\"styled__Td-sc-e89col-10 feNufd\")[3].find(\"p\").text.strip()\n",
        "                gf = row.find_all(\"div\", class_=\"styled__Td-sc-e89col-10 feNufd\")[4].find(\"p\").text.strip()\n",
        "                ga = row.find_all(\"div\", class_=\"styled__Td-sc-e89col-10 feNufd\")[5].find(\"p\").text.strip()\n",
        "                gd = row.find_all(\"div\", class_=\"styled__Td-sc-e89col-10 feNufd\")[6].find(\"p\").text.strip()\n",
        "\n",
        "                team_data.extend([season, position, team, points, w, d, l, gf, ga, gd])\n",
        "                teams_list.append(team_data)\n",
        "            except Exception as e:\n",
        "                logging.error(f\"Error parsing row: {e}\")\n",
        "                continue\n",
        "    else:\n",
        "        logging.error(f\"Failed to retrieve data for season {season}\")\n",
        "    return teams_list\n",
        "\n",
        "# Fetching data for all seasons\n",
        "all_teams_list = []\n",
        "for season in ID_seasonId:\n",
        "    all_teams_list.extend(fetch_data(season))\n",
        "\n",
        "df = pd.DataFrame(all_teams_list, columns=[\"season\"] + COLUMNS)\n",
        "df.to_csv(os.path.join(dataset_url, \"all_seasons.csv\"), header=True, index=False)\n",
        "\n",
        "# Data preprocessing and feature engineering\n",
        "df['W'] = df['W'].astype(int)\n",
        "df['D'] = df['D'].astype(int)\n",
        "df['L'] = df['L'].astype(int)\n",
        "df['GF'] = df['GF'].astype(int)\n",
        "df['GA'] = df['GA'].astype(int)\n",
        "df['GD'] = df['GD'].astype(int)\n",
        "df['Points'] = df['Points'].astype(int)\n",
        "df['PLAYED'] = df['W'] + df['D'] + df['L']\n",
        "\n",
        "# Calculating the target variables\n",
        "df['Win_Percentage'] = (df['W'] / df['PLAYED']) * 100\n",
        "df['Draw_Percentage'] = (df['D'] / df['PLAYED']) * 100\n",
        "\n",
        "# Model training\n",
        "X = df[['Points', 'GF', 'GA', 'GD']].values\n",
        "y_win = df['Win_Percentage'].values\n",
        "y_draw = df['Draw_Percentage'].values\n",
        "\n",
        "X_train, X_test, y_train_win, y_test_win = train_test_split(X, y_win, test_size=0.2, random_state=42)\n",
        "X_train, X_test, y_train_draw, y_test_draw = train_test_split(X, y_draw, test_size=0.2, random_state=42)\n",
        "\n",
        "model_win = LinearRegression()\n",
        "model_draw = LinearRegression()\n",
        "\n",
        "model_win.fit(X_train, y_train_win)\n",
        "model_draw.fit(X_train, y_train_draw)\n",
        "\n",
        "# Evaluation\n",
        "y_pred_win = model_win.predict(X_test)\n",
        "y_pred_draw = model_draw.predict(X_test)\n",
        "\n",
        "mae_win = mean_absolute_error(y_test_win, y_pred_win)\n",
        "mae_draw = mean_absolute_error(y_test_draw, y_pred_draw)\n",
        "\n",
        "print(\"Mean Absolute Error for Win Percentage:\", mae_win)\n",
        "print(\"Mean Absolute Error for Draw Percentage:\", mae_draw)\n",
        "\n",
        "# Predicting for 2024 (assuming some hypothetical data)\n",
        "# Replace this with actual data for the prediction year\n",
        "hypothetical_data = [[85, 80, 40, 40]]  # Example: [Points, GF, GA, GD]\n",
        "pred_win_percentage_2024 = model_win.predict(hypothetical_data)\n",
        "pred_draw_percentage_2024 = model_draw.predict(hypothetical_data)\n",
        "\n",
        "print(\"Predicted Win Percentage for 2024:\", pred_win_percentage_2024[0])\n",
        "print(\"Predicted Draw Percentage for 2024:\", pred_draw_percentage_2024[0])"
      ],
      "metadata": {
        "colab": {
          "base_uri": "https://localhost:8080/"
        },
        "id": "4yRfD2OhdPX2",
        "outputId": "8e289019-8d64-40a7-a56d-b1700f42d159"
      },
      "execution_count": 38,
      "outputs": [
        {
          "output_type": "stream",
          "name": "stdout",
          "text": [
            "Mean Absolute Error for Win Percentage: 2.1753479557400186\n",
            "Mean Absolute Error for Draw Percentage: 3.142191948484016\n",
            "Predicted Win Percentage for 2024: 119.73132878196337\n",
            "Predicted Draw Percentage for 2024: 31.315417392959056\n"
          ]
        }
      ]
    },
    {
      "cell_type": "code",
      "source": [],
      "metadata": {
        "id": "C-xj31ADdfUg"
      },
      "execution_count": 38,
      "outputs": []
    }
  ]
}