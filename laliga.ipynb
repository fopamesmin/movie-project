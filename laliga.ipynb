{
  "nbformat": 4,
  "nbformat_minor": 0,
  "metadata": {
    "colab": {
      "provenance": [],
      "authorship_tag": "ABX9TyMt7BCHMhkKHHL09n9tUvvM",
      "include_colab_link": true
    },
    "kernelspec": {
      "name": "python3",
      "display_name": "Python 3"
    },
    "language_info": {
      "name": "python"
    }
  },
  "cells": [
    {
      "cell_type": "markdown",
      "metadata": {
        "id": "view-in-github",
        "colab_type": "text"
      },
      "source": [
        "<a href=\"https://colab.research.google.com/github/fopamesmin/movie-project/blob/main/laliga.ipynb\" target=\"_parent\"><img src=\"https://colab.research.google.com/assets/colab-badge.svg\" alt=\"Open In Colab\"/></a>"
      ]
    },
    {
      "cell_type": "code",
      "execution_count": null,
      "metadata": {
        "colab": {
          "base_uri": "https://localhost:8080/"
        },
        "id": "wApL2WLxLsJZ",
        "outputId": "7a8d63f1-fd5b-4f16-8a22-ae08a7ad2628"
      },
      "outputs": [
        {
          "output_type": "stream",
          "name": "stdout",
          "text": [
            "Collecting colorama\n",
            "  Downloading colorama-0.4.6-py2.py3-none-any.whl (25 kB)\n",
            "Installing collected packages: colorama\n",
            "Successfully installed colorama-0.4.6\n"
          ]
        }
      ],
      "source": [
        "pip install colorama"
      ]
    },
    {
      "cell_type": "code",
      "source": [
        "from google.colab import drive\n",
        "drive.mount('/content/drive')"
      ],
      "metadata": {
        "colab": {
          "base_uri": "https://localhost:8080/"
        },
        "id": "3QKRfVuCQoVw",
        "outputId": "278470e2-2637-4422-b363-585bf2a41644"
      },
      "execution_count": null,
      "outputs": [
        {
          "output_type": "stream",
          "name": "stdout",
          "text": [
            "Drive already mounted at /content/drive; to attempt to forcibly remount, call drive.mount(\"/content/drive\", force_remount=True).\n"
          ]
        }
      ]
    },
    {
      "cell_type": "code",
      "source": [
        "import os\n",
        "import pandas as pd\n",
        "import requests as req\n",
        "from bs4 import BeautifulSoup as BS\n",
        "import logging\n",
        "from sklearn.model_selection import train_test_split\n",
        "from sklearn.linear_model import LinearRegression\n",
        "from sklearn.metrics import mean_absolute_error\n",
        "\n",
        "# Constants\n",
        "sofifa_url = \"https://www.laliga.com/en-ES/laliga-easports/standing\"\n",
        "COLUMNS = [\"position\", \"team\", \"Points\", \"W\", \"D\", \"L\", \"GF\", \"GA\", \"GD\"]\n",
        "ID_seasonId = [  \"2020/2021\", \"2021/2022\", \"2022/2023\"]\n",
        "headers = {'User-Agent': 'Mozilla/5.0 (Macintosh; Intel Mac OS X 10_11_5) AppleWebKit/537.36 (KHTML, like Gecko) Chrome/50.0.2661.102 Safari/537.36'}\n",
        "logging.basicConfig(level=logging.INFO)\n",
        "dataset_url = \"./DataSet\"\n",
        "os.makedirs(dataset_url, exist_ok=True)\n",
        "\n",
        "def fetch_data(season):\n",
        "    teams_list = []\n",
        "    response = req.get(sofifa_url, headers=headers)\n",
        "    if response.status_code == req.codes.ok:\n",
        "        soup = BS(response.content, \"lxml\")\n",
        "        rows = soup.select(\"div.styled__StandingTabBody-sc-e89col-0.isRHqh\")\n",
        "        for row in rows:\n",
        "            team_data = []\n",
        "            try:\n",
        "                position = row.find(\"div\", class_=\"styled__Td-sc-e89col-10 fTFWtb\").find(\"p\").text.strip()\n",
        "                team = row.find(\"div\", class_=\"styled__ShieldContainer-sc-1opls7r-0 eIaTDi shield-desktop\").find(\"p\").text.strip()\n",
        "                points = row.find_all(\"div\", class_=\"styled__Td-sc-e89col-10 feNufd\")[0].find(\"p\").text.strip()\n",
        "                w = row.find_all(\"div\", class_=\"styled__Td-sc-e89col-10 feNufd\")[1].find(\"p\").text.strip()\n",
        "                d = row.find_all(\"div\", class_=\"styled__Td-sc-e89col-10 feNufd\")[2].find(\"p\").text.strip()\n",
        "                l = row.find_all(\"div\", class_=\"styled__Td-sc-e89col-10 feNufd\")[3].find(\"p\").text.strip()\n",
        "                gf = row.find_all(\"div\", class_=\"styled__Td-sc-e89col-10 feNufd\")[4].find(\"p\").text.strip()\n",
        "                ga = row.find_all(\"div\", class_=\"styled__Td-sc-e89col-10 feNufd\")[5].find(\"p\").text.strip()\n",
        "                gd = row.find_all(\"div\", class_=\"styled__Td-sc-e89col-10 feNufd\")[6].find(\"p\").text.strip()\n",
        "\n",
        "                team_data.extend([season, position, team, points, w, d, l, gf, ga, gd])\n",
        "                teams_list.append(team_data)\n",
        "            except Exception as e:\n",
        "                logging.error(f\"Error parsing row: {e}\")\n",
        "                continue\n",
        "    else:\n",
        "        logging.error(f\"Failed to retrieve data for season {season}\")\n",
        "    return teams_list\n",
        "\n",
        "# Fetching data for all seasons\n",
        "all_teams_list = []\n",
        "for season in ID_seasonId:\n",
        "    all_teams_list.extend(fetch_data(season))\n",
        "\n",
        "df = pd.DataFrame(all_teams_list, columns=[\"season\"] + COLUMNS)\n",
        "df.to_csv(os.path.join(dataset_url, \"all_seasons.csv\"), header=True, index=False)\n",
        "\n",
        "# Data preprocessing and feature engineering\n",
        "df['W'] = df['W'].astype(int)\n",
        "df['D'] = df['D'].astype(int)\n",
        "df['L'] = df['L'].astype(int)\n",
        "df['GF'] = df['GF'].astype(int)\n",
        "df['GA'] = df['GA'].astype(int)\n",
        "df['GD'] = df['GD'].astype(int)\n",
        "df['Points'] = df['Points'].astype(int)\n",
        "df['PLAYED'] = df['W'] + df['D'] + df['L']\n",
        "\n",
        "# Calculating the target variables\n",
        "df['Win_Percentage'] = (df['W'] / df['PLAYED']) * 100\n",
        "df['Draw_Percentage'] = (df['D'] / df['PLAYED']) * 100\n",
        "\n",
        "# Model training\n",
        "X = df[['Points', 'GF', 'GA', 'GD']].values\n",
        "y_win = df['Win_Percentage'].values\n",
        "y_draw = df['Draw_Percentage'].values\n",
        "\n",
        "X_train, X_test, y_train_win, y_test_win = train_test_split(X, y_win, test_size=0.2, random_state=42)\n",
        "X_train, X_test, y_train_draw, y_test_draw = train_test_split(X, y_draw, test_size=0.2, random_state=42)\n",
        "\n",
        "model_win = LinearRegression()\n",
        "model_draw = LinearRegression()\n",
        "\n",
        "model_win.fit(X_train, y_train_win)\n",
        "model_draw.fit(X_train, y_train_draw)\n",
        "\n",
        "# Evaluation\n",
        "y_pred_win = model_win.predict(X_test)\n",
        "y_pred_draw = model_draw.predict(X_test)\n",
        "\n",
        "mae_win = mean_absolute_error(y_test_win, y_pred_win)\n",
        "mae_draw = mean_absolute_error(y_test_draw, y_pred_draw)\n",
        "\n",
        "print(\"Mean Absolute Error for Win Percentage:\", mae_win)\n",
        "print(\"Mean Absolute Error for Draw Percentage:\", mae_draw)\n",
        "\n",
        "# Predicting for 2024 (assuming some hypothetical data)\n",
        "# Replace this with actual data for the prediction year\n",
        "hypothetical_data = [[85, 80, 40, 40]]  # Example: [Points, GF, GA, GD]\n",
        "pred_win_percentage_2024 = model_win.predict(hypothetical_data)\n",
        "pred_draw_percentage_2024 = model_draw.predict(hypothetical_data)\n",
        "\n",
        "print(\"Predicted Win Percentage for 2024:\", pred_win_percentage_2024[0])\n",
        "print(\"Predicted Draw Percentage for 2024:\", pred_draw_percentage_2024[0])"
      ],
      "metadata": {
        "colab": {
          "base_uri": "https://localhost:8080/"
        },
        "id": "4yRfD2OhdPX2",
        "outputId": "3c176af0-3691-464f-d9c7-f7df45048f66"
      },
      "execution_count": 2,
      "outputs": [
        {
          "output_type": "stream",
          "name": "stdout",
          "text": [
            "Mean Absolute Error for Win Percentage: 2.227214084870546\n",
            "Mean Absolute Error for Draw Percentage: 3.7879158377246887\n",
            "Predicted Win Percentage for 2024: 121.22469769957397\n",
            "Predicted Draw Percentage for 2024: 22.479773668066237\n"
          ]
        }
      ]
    },
    {
      "cell_type": "code",
      "source": [
        "import os\n",
        "import pandas as pd\n",
        "import requests as req\n",
        "from bs4 import BeautifulSoup as BS\n",
        "import logging\n",
        "\n",
        "# Constants\n",
        "sofifa_url = \"https://www.laliga.com/en-ES/laliga-easports/standing\"\n",
        "COLUMNS = [\"position\", \"team\", \"Points\", \"W\", \"D\", \"L\", \"GF\", \"GA\", \"GD\"]\n",
        "ID_seasonId = [ \"2019/2020\", \"2020/2021\", \"2021/2022\", \"2022/2023\"]\n",
        "headers = {'User-Agent': 'Mozilla/5.0 (Macintosh; Intel Mac OS X 10_11_5) AppleWebKit/537.36 (KHTML, like Gecko) Chrome/50.0.2661.102 Safari/537.36'}\n",
        "logging.basicConfig(level=logging.INFO)\n",
        "dataset_url = \"./DataSet\"\n",
        "os.makedirs(dataset_url, exist_ok=True)\n",
        "\n",
        "def fetch_data(season):\n",
        "    teams_list = []\n",
        "    response = req.get(sofifa_url, headers=headers)\n",
        "    if response.status_code == req.codes.ok:\n",
        "        soup = BS(response.content, \"lxml\")\n",
        "        rows = soup.select(\"div.styled__StandingTabBody-sc-e89col-0.isRHqh\")\n",
        "        for row in rows:\n",
        "            team_data = []\n",
        "            try:\n",
        "                position = row.find(\"div\", class_=\"styled__Td-sc-e89col-10 fTFWtb\").find(\"p\").text.strip()\n",
        "                team = row.find(\"div\", class_=\"styled__ShieldContainer-sc-1opls7r-0 eIaTDi shield-desktop\").find(\"p\").text.strip()\n",
        "                points = row.find_all(\"div\", class_=\"styled__Td-sc-e89col-10 feNufd\")[0].find(\"p\").text.strip()\n",
        "                w = row.find_all(\"div\", class_=\"styled__Td-sc-e89col-10 feNufd\")[1].find(\"p\").text.strip()\n",
        "                d = row.find_all(\"div\", class_=\"styled__Td-sc-e89col-10 feNufd\")[2].find(\"p\").text.strip()\n",
        "                l = row.find_all(\"div\", class_=\"styled__Td-sc-e89col-10 feNufd\")[3].find(\"p\").text.strip()\n",
        "                gf = row.find_all(\"div\", class_=\"styled__Td-sc-e89col-10 feNufd\")[4].find(\"p\").text.strip()\n",
        "                ga = row.find_all(\"div\", class_=\"styled__Td-sc-e89col-10 feNufd\")[5].find(\"p\").text.strip()\n",
        "                gd = row.find_all(\"div\", class_=\"styled__Td-sc-e89col-10 feNufd\")[6].find(\"p\").text.strip()\n",
        "\n",
        "                team_data.extend([season, position, team, points, w, d, l, gf, ga, gd])\n",
        "                teams_list.append(team_data)\n",
        "            except Exception as e:\n",
        "                logging.error(f\"Error parsing row: {e}\")\n",
        "                continue\n",
        "    else:\n",
        "        logging.error(f\"Failed to retrieve data for season {season}\")\n",
        "    return teams_list\n",
        "\n",
        "# Fetching data for all seasons\n",
        "all_teams_list = []\n",
        "for season in ID_seasonId:\n",
        "    all_teams_list.extend(fetch_data(season))\n",
        "\n",
        "df = pd.DataFrame(all_teams_list, columns=[\"season\"] + COLUMNS)\n",
        "\n",
        "# Data preprocessing\n",
        "df['W'] = df['W'].astype(int)\n",
        "df['D'] = df['D'].astype(int)\n",
        "df['L'] = df['L'].astype(int)\n",
        "df['PLAYED'] = df['W'] + df['D'] + df['L']\n",
        "\n",
        "# Calculating total matches played, total wins, and total draws\n",
        "total_matches_played = df['PLAYED'].sum()\n",
        "total_wins = df['W'].sum()\n",
        "total_draws = df['D'].sum()\n",
        "\n",
        "# Calculating total percentages\n",
        "total_win_percentage = (total_wins / total_matches_played) * 100\n",
        "total_draw_percentage = (total_draws / total_matches_played) * 100\n",
        "\n",
        "print(f\"Pourcentage total de matchs gagnés: {total_win_percentage}\")\n",
        "print(f\"Pourcentage total de matchs nuls: {total_draw_percentage}\")"
      ],
      "metadata": {
        "id": "C-xj31ADdfUg",
        "colab": {
          "base_uri": "https://localhost:8080/"
        },
        "outputId": "30ecd3ed-73b9-463a-d466-c56fe1f98399"
      },
      "execution_count": 4,
      "outputs": [
        {
          "output_type": "stream",
          "name": "stdout",
          "text": [
            "Pourcentage total de matchs gagnés: 61.003236245954696\n",
            "Pourcentage total de matchs nuls: 22.006472491909385\n"
          ]
        }
      ]
    }
  ]
}