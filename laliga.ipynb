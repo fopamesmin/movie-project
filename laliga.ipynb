{
  "nbformat": 4,
  "nbformat_minor": 0,
  "metadata": {
    "colab": {
      "provenance": [],
      "authorship_tag": "ABX9TyOnWaodoO5mO0/2hDEsAIbL",
      "include_colab_link": true
    },
    "kernelspec": {
      "name": "python3",
      "display_name": "Python 3"
    },
    "language_info": {
      "name": "python"
    }
  },
  "cells": [
    {
      "cell_type": "markdown",
      "metadata": {
        "id": "view-in-github",
        "colab_type": "text"
      },
      "source": [
        "<a href=\"https://colab.research.google.com/github/fopamesmin/movie-project/blob/main/laliga.ipynb\" target=\"_parent\"><img src=\"https://colab.research.google.com/assets/colab-badge.svg\" alt=\"Open In Colab\"/></a>"
      ]
    },
    {
      "cell_type": "code",
      "execution_count": 1,
      "metadata": {
        "colab": {
          "base_uri": "https://localhost:8080/"
        },
        "id": "wApL2WLxLsJZ",
        "outputId": "7a8d63f1-fd5b-4f16-8a22-ae08a7ad2628"
      },
      "outputs": [
        {
          "output_type": "stream",
          "name": "stdout",
          "text": [
            "Collecting colorama\n",
            "  Downloading colorama-0.4.6-py2.py3-none-any.whl (25 kB)\n",
            "Installing collected packages: colorama\n",
            "Successfully installed colorama-0.4.6\n"
          ]
        }
      ],
      "source": [
        "pip install colorama"
      ]
    },
    {
      "cell_type": "code",
      "source": [
        "import os\n",
        "import pandas as pd\n",
        "import requests as req\n",
        "from bs4 import BeautifulSoup as BS\n",
        "import logging\n",
        "\n",
        "# Constants\n",
        "sofifa_url = \"https://www.laliga.com/en-ES/laliga-easports/standing\"\n",
        "COLUMNS = [\"position\", \"team\", \"Points\", \"w\", \"D\", \"L\", \"GF\", \"GA\", \"GD\"]\n",
        "ID_seasonId = [\"2020/2021\",\"2021/2022\",\"2022/2023\"]\n",
        "\n",
        "headers = {\n",
        "    'User-Agent': 'Mozilla/5.0 (Macintosh; Intel Mac OS X 10_11_5) AppleWebKit/537.36 (KHTML, like Gecko) Chrome/50.0.2661.102 Safari/537.36'\n",
        "}\n",
        "\n",
        "logging.basicConfig(level=logging.INFO)\n",
        "dataset_url = \"./DataSet\"\n",
        "# Ensure the directory exists\n",
        "os.makedirs(dataset_url, exist_ok=True)\n",
        "\n",
        "for season in ID_seasonId:\n",
        "    teams_list = []\n",
        "\n",
        "    response = req.get(sofifa_url, headers=headers)\n",
        "\n",
        "    if response.status_code == req.codes.ok:\n",
        "        soup = BS(response.content, \"lxml\")\n",
        "\n",
        "        # Find the table rows containing the standings\n",
        "        rows = soup.select(\"div.styled__StandingTabBody-sc-e89col-0.isRHqh\")\n",
        "\n",
        "        for row in rows:\n",
        "            team_data = []\n",
        "            try:\n",
        "                # Extract data using the appropriate classes\n",
        "                position = row.find(\"div\", class_=\"styled__Td-sc-e89col-10 fTFWtb\").find(\"p\").text.strip()\n",
        "                team = row.find(\"div\", class_=\"styled__ShieldContainer-sc-1opls7r-0 eIaTDi shield-desktop\").find(\"p\").text.strip()\n",
        "                points = row.find_all(\"div\", class_=\"styled__Td-sc-e89col-10 feNufd\")[0].find(\"p\").text.strip()\n",
        "                W = row.find_all(\"div\", class_=\"styled__Td-sc-e89col-10 feNufd\")[1].find(\"p\").text.strip()\n",
        "                d = row.find_all(\"div\", class_=\"styled__Td-sc-e89col-10 feNufd\")[2].find(\"p\").text.strip()\n",
        "                l = row.find_all(\"div\", class_=\"styled__Td-sc-e89col-10 feNufd\")[3].find(\"p\").text.strip()\n",
        "                gf = row.find_all(\"div\", class_=\"styled__Td-sc-e89col-10 feNufd\")[4].find(\"p\").text.strip()\n",
        "                ga = row.find_all(\"div\", class_=\"styled__Td-sc-e89col-10 feNufd\")[5].find(\"p\").text.strip()\n",
        "                gd = row.find_all(\"div\", class_=\"styled__Td-sc-e89col-10 feNufd\")[6].find(\"p\").text.strip()\n",
        "\n",
        "                team_data.extend([position, team, points, w, d, l, gf, ga, gd])\n",
        "                teams_list.append(team_data)\n",
        "            except Exception as e:\n",
        "                logging.error(f\"Error parsing row: {e}\")\n",
        "                continue\n",
        "\n",
        "    else:\n",
        "        logging.error(f\"Failed to retrieve data for season {season}\")\n",
        "\n",
        "    df = pd.DataFrame(teams_list, columns=COLUMNS)\n",
        "\n",
        "    csv_file_path = os.path.join(dataset_url, f\"{season.replace('/', '-')}.csv\")\n",
        "    df.to_csv(csv_file_path, header=True, index=False)\n",
        "\n",
        "    print(f\"Data for season {season}:\\n\", df)\n",
        "    #df_20 = pd.read_csv(\"/content/drive/MyDrive/DataSet/season.csv\")"
      ],
      "metadata": {
        "colab": {
          "base_uri": "https://localhost:8080/"
        },
        "id": "Nf-2MEmZLvgo",
        "outputId": "8e43502e-ffc7-446a-b3f2-1c129a4335b6"
      },
      "execution_count": 4,
      "outputs": [
        {
          "output_type": "stream",
          "name": "stderr",
          "text": [
            "ERROR:root:Error parsing row: name 'w' is not defined\n",
            "ERROR:root:Error parsing row: name 'w' is not defined\n",
            "ERROR:root:Error parsing row: name 'w' is not defined\n",
            "ERROR:root:Error parsing row: name 'w' is not defined\n",
            "ERROR:root:Error parsing row: name 'w' is not defined\n",
            "ERROR:root:Error parsing row: name 'w' is not defined\n",
            "ERROR:root:Error parsing row: name 'w' is not defined\n",
            "ERROR:root:Error parsing row: name 'w' is not defined\n",
            "ERROR:root:Error parsing row: name 'w' is not defined\n",
            "ERROR:root:Error parsing row: name 'w' is not defined\n",
            "ERROR:root:Error parsing row: name 'w' is not defined\n",
            "ERROR:root:Error parsing row: name 'w' is not defined\n",
            "ERROR:root:Error parsing row: name 'w' is not defined\n",
            "ERROR:root:Error parsing row: name 'w' is not defined\n",
            "ERROR:root:Error parsing row: name 'w' is not defined\n",
            "ERROR:root:Error parsing row: name 'w' is not defined\n",
            "ERROR:root:Error parsing row: name 'w' is not defined\n",
            "ERROR:root:Error parsing row: name 'w' is not defined\n",
            "ERROR:root:Error parsing row: name 'w' is not defined\n",
            "ERROR:root:Error parsing row: name 'w' is not defined\n",
            "ERROR:root:Error parsing row: name 'w' is not defined\n",
            "ERROR:root:Error parsing row: name 'w' is not defined\n",
            "ERROR:root:Error parsing row: name 'w' is not defined\n",
            "ERROR:root:Error parsing row: name 'w' is not defined\n",
            "ERROR:root:Error parsing row: name 'w' is not defined\n",
            "ERROR:root:Error parsing row: name 'w' is not defined\n",
            "ERROR:root:Error parsing row: name 'w' is not defined\n",
            "ERROR:root:Error parsing row: name 'w' is not defined\n",
            "ERROR:root:Error parsing row: name 'w' is not defined\n",
            "ERROR:root:Error parsing row: name 'w' is not defined\n",
            "ERROR:root:Error parsing row: name 'w' is not defined\n",
            "ERROR:root:Error parsing row: name 'w' is not defined\n",
            "ERROR:root:Error parsing row: name 'w' is not defined\n",
            "ERROR:root:Error parsing row: name 'w' is not defined\n",
            "ERROR:root:Error parsing row: name 'w' is not defined\n",
            "ERROR:root:Error parsing row: name 'w' is not defined\n",
            "ERROR:root:Error parsing row: name 'w' is not defined\n",
            "ERROR:root:Error parsing row: name 'w' is not defined\n",
            "ERROR:root:Error parsing row: name 'w' is not defined\n",
            "ERROR:root:Error parsing row: name 'w' is not defined\n",
            "ERROR:root:Error parsing row: name 'w' is not defined\n",
            "ERROR:root:Error parsing row: name 'w' is not defined\n",
            "ERROR:root:Error parsing row: name 'w' is not defined\n",
            "ERROR:root:Error parsing row: name 'w' is not defined\n",
            "ERROR:root:Error parsing row: name 'w' is not defined\n",
            "ERROR:root:Error parsing row: name 'w' is not defined\n",
            "ERROR:root:Error parsing row: name 'w' is not defined\n",
            "ERROR:root:Error parsing row: name 'w' is not defined\n",
            "ERROR:root:Error parsing row: name 'w' is not defined\n",
            "ERROR:root:Error parsing row: name 'w' is not defined\n",
            "ERROR:root:Error parsing row: name 'w' is not defined\n",
            "ERROR:root:Error parsing row: name 'w' is not defined\n",
            "ERROR:root:Error parsing row: name 'w' is not defined\n",
            "ERROR:root:Error parsing row: name 'w' is not defined\n",
            "ERROR:root:Error parsing row: name 'w' is not defined\n",
            "ERROR:root:Error parsing row: name 'w' is not defined\n",
            "ERROR:root:Error parsing row: name 'w' is not defined\n",
            "ERROR:root:Error parsing row: name 'w' is not defined\n",
            "ERROR:root:Error parsing row: name 'w' is not defined\n",
            "ERROR:root:Error parsing row: name 'w' is not defined\n"
          ]
        },
        {
          "output_type": "stream",
          "name": "stdout",
          "text": [
            "Data for season 2020/2021:\n",
            " Empty DataFrame\n",
            "Columns: [position, team, Points, w, D, L, GF, GA, GD]\n",
            "Index: []\n"
          ]
        },
        {
          "output_type": "stream",
          "name": "stderr",
          "text": [
            "ERROR:root:Error parsing row: name 'w' is not defined\n",
            "ERROR:root:Error parsing row: name 'w' is not defined\n",
            "ERROR:root:Error parsing row: name 'w' is not defined\n",
            "ERROR:root:Error parsing row: name 'w' is not defined\n",
            "ERROR:root:Error parsing row: name 'w' is not defined\n",
            "ERROR:root:Error parsing row: name 'w' is not defined\n",
            "ERROR:root:Error parsing row: name 'w' is not defined\n",
            "ERROR:root:Error parsing row: name 'w' is not defined\n",
            "ERROR:root:Error parsing row: name 'w' is not defined\n",
            "ERROR:root:Error parsing row: name 'w' is not defined\n",
            "ERROR:root:Error parsing row: name 'w' is not defined\n",
            "ERROR:root:Error parsing row: name 'w' is not defined\n",
            "ERROR:root:Error parsing row: name 'w' is not defined\n",
            "ERROR:root:Error parsing row: name 'w' is not defined\n",
            "ERROR:root:Error parsing row: name 'w' is not defined\n",
            "ERROR:root:Error parsing row: name 'w' is not defined\n",
            "ERROR:root:Error parsing row: name 'w' is not defined\n",
            "ERROR:root:Error parsing row: name 'w' is not defined\n",
            "ERROR:root:Error parsing row: name 'w' is not defined\n",
            "ERROR:root:Error parsing row: name 'w' is not defined\n",
            "ERROR:root:Error parsing row: name 'w' is not defined\n",
            "ERROR:root:Error parsing row: name 'w' is not defined\n",
            "ERROR:root:Error parsing row: name 'w' is not defined\n",
            "ERROR:root:Error parsing row: name 'w' is not defined\n",
            "ERROR:root:Error parsing row: name 'w' is not defined\n",
            "ERROR:root:Error parsing row: name 'w' is not defined\n",
            "ERROR:root:Error parsing row: name 'w' is not defined\n",
            "ERROR:root:Error parsing row: name 'w' is not defined\n",
            "ERROR:root:Error parsing row: name 'w' is not defined\n",
            "ERROR:root:Error parsing row: name 'w' is not defined\n",
            "ERROR:root:Error parsing row: name 'w' is not defined\n",
            "ERROR:root:Error parsing row: name 'w' is not defined\n",
            "ERROR:root:Error parsing row: name 'w' is not defined\n",
            "ERROR:root:Error parsing row: name 'w' is not defined\n",
            "ERROR:root:Error parsing row: name 'w' is not defined\n",
            "ERROR:root:Error parsing row: name 'w' is not defined\n",
            "ERROR:root:Error parsing row: name 'w' is not defined\n",
            "ERROR:root:Error parsing row: name 'w' is not defined\n",
            "ERROR:root:Error parsing row: name 'w' is not defined\n",
            "ERROR:root:Error parsing row: name 'w' is not defined\n",
            "ERROR:root:Error parsing row: name 'w' is not defined\n",
            "ERROR:root:Error parsing row: name 'w' is not defined\n",
            "ERROR:root:Error parsing row: name 'w' is not defined\n",
            "ERROR:root:Error parsing row: name 'w' is not defined\n",
            "ERROR:root:Error parsing row: name 'w' is not defined\n",
            "ERROR:root:Error parsing row: name 'w' is not defined\n",
            "ERROR:root:Error parsing row: name 'w' is not defined\n",
            "ERROR:root:Error parsing row: name 'w' is not defined\n",
            "ERROR:root:Error parsing row: name 'w' is not defined\n",
            "ERROR:root:Error parsing row: name 'w' is not defined\n",
            "ERROR:root:Error parsing row: name 'w' is not defined\n",
            "ERROR:root:Error parsing row: name 'w' is not defined\n",
            "ERROR:root:Error parsing row: name 'w' is not defined\n",
            "ERROR:root:Error parsing row: name 'w' is not defined\n",
            "ERROR:root:Error parsing row: name 'w' is not defined\n",
            "ERROR:root:Error parsing row: name 'w' is not defined\n",
            "ERROR:root:Error parsing row: name 'w' is not defined\n",
            "ERROR:root:Error parsing row: name 'w' is not defined\n",
            "ERROR:root:Error parsing row: name 'w' is not defined\n",
            "ERROR:root:Error parsing row: name 'w' is not defined\n"
          ]
        },
        {
          "output_type": "stream",
          "name": "stdout",
          "text": [
            "Data for season 2021/2022:\n",
            " Empty DataFrame\n",
            "Columns: [position, team, Points, w, D, L, GF, GA, GD]\n",
            "Index: []\n"
          ]
        },
        {
          "output_type": "stream",
          "name": "stderr",
          "text": [
            "ERROR:root:Error parsing row: name 'w' is not defined\n",
            "ERROR:root:Error parsing row: name 'w' is not defined\n",
            "ERROR:root:Error parsing row: name 'w' is not defined\n",
            "ERROR:root:Error parsing row: name 'w' is not defined\n",
            "ERROR:root:Error parsing row: name 'w' is not defined\n",
            "ERROR:root:Error parsing row: name 'w' is not defined\n",
            "ERROR:root:Error parsing row: name 'w' is not defined\n",
            "ERROR:root:Error parsing row: name 'w' is not defined\n",
            "ERROR:root:Error parsing row: name 'w' is not defined\n",
            "ERROR:root:Error parsing row: name 'w' is not defined\n",
            "ERROR:root:Error parsing row: name 'w' is not defined\n",
            "ERROR:root:Error parsing row: name 'w' is not defined\n",
            "ERROR:root:Error parsing row: name 'w' is not defined\n",
            "ERROR:root:Error parsing row: name 'w' is not defined\n",
            "ERROR:root:Error parsing row: name 'w' is not defined\n",
            "ERROR:root:Error parsing row: name 'w' is not defined\n",
            "ERROR:root:Error parsing row: name 'w' is not defined\n",
            "ERROR:root:Error parsing row: name 'w' is not defined\n",
            "ERROR:root:Error parsing row: name 'w' is not defined\n",
            "ERROR:root:Error parsing row: name 'w' is not defined\n",
            "ERROR:root:Error parsing row: name 'w' is not defined\n",
            "ERROR:root:Error parsing row: name 'w' is not defined\n",
            "ERROR:root:Error parsing row: name 'w' is not defined\n",
            "ERROR:root:Error parsing row: name 'w' is not defined\n",
            "ERROR:root:Error parsing row: name 'w' is not defined\n",
            "ERROR:root:Error parsing row: name 'w' is not defined\n",
            "ERROR:root:Error parsing row: name 'w' is not defined\n",
            "ERROR:root:Error parsing row: name 'w' is not defined\n",
            "ERROR:root:Error parsing row: name 'w' is not defined\n",
            "ERROR:root:Error parsing row: name 'w' is not defined\n",
            "ERROR:root:Error parsing row: name 'w' is not defined\n",
            "ERROR:root:Error parsing row: name 'w' is not defined\n",
            "ERROR:root:Error parsing row: name 'w' is not defined\n",
            "ERROR:root:Error parsing row: name 'w' is not defined\n",
            "ERROR:root:Error parsing row: name 'w' is not defined\n",
            "ERROR:root:Error parsing row: name 'w' is not defined\n",
            "ERROR:root:Error parsing row: name 'w' is not defined\n",
            "ERROR:root:Error parsing row: name 'w' is not defined\n",
            "ERROR:root:Error parsing row: name 'w' is not defined\n",
            "ERROR:root:Error parsing row: name 'w' is not defined\n",
            "ERROR:root:Error parsing row: name 'w' is not defined\n",
            "ERROR:root:Error parsing row: name 'w' is not defined\n",
            "ERROR:root:Error parsing row: name 'w' is not defined\n",
            "ERROR:root:Error parsing row: name 'w' is not defined\n",
            "ERROR:root:Error parsing row: name 'w' is not defined\n",
            "ERROR:root:Error parsing row: name 'w' is not defined\n",
            "ERROR:root:Error parsing row: name 'w' is not defined\n",
            "ERROR:root:Error parsing row: name 'w' is not defined\n",
            "ERROR:root:Error parsing row: name 'w' is not defined\n",
            "ERROR:root:Error parsing row: name 'w' is not defined\n",
            "ERROR:root:Error parsing row: name 'w' is not defined\n",
            "ERROR:root:Error parsing row: name 'w' is not defined\n",
            "ERROR:root:Error parsing row: name 'w' is not defined\n",
            "ERROR:root:Error parsing row: name 'w' is not defined\n",
            "ERROR:root:Error parsing row: name 'w' is not defined\n",
            "ERROR:root:Error parsing row: name 'w' is not defined\n",
            "ERROR:root:Error parsing row: name 'w' is not defined\n",
            "ERROR:root:Error parsing row: name 'w' is not defined\n",
            "ERROR:root:Error parsing row: name 'w' is not defined\n",
            "ERROR:root:Error parsing row: name 'w' is not defined\n"
          ]
        },
        {
          "output_type": "stream",
          "name": "stdout",
          "text": [
            "Data for season 2022/2023:\n",
            " Empty DataFrame\n",
            "Columns: [position, team, Points, w, D, L, GF, GA, GD]\n",
            "Index: []\n"
          ]
        }
      ]
    },
    {
      "cell_type": "code",
      "source": [
        "from google.colab import drive\n",
        "drive.mount('/content/drive')"
      ],
      "metadata": {
        "colab": {
          "base_uri": "https://localhost:8080/"
        },
        "id": "3QKRfVuCQoVw",
        "outputId": "278470e2-2637-4422-b363-585bf2a41644"
      },
      "execution_count": 8,
      "outputs": [
        {
          "output_type": "stream",
          "name": "stdout",
          "text": [
            "Drive already mounted at /content/drive; to attempt to forcibly remount, call drive.mount(\"/content/drive\", force_remount=True).\n"
          ]
        }
      ]
    },
    {
      "cell_type": "code",
      "source": [
        "dataset_url = \"/content/drive/MyDrive/DataSet\""
      ],
      "metadata": {
        "id": "I3anb2DKRPcK"
      },
      "execution_count": 9,
      "outputs": []
    },
    {
      "cell_type": "code",
      "source": [],
      "metadata": {
        "id": "2uQyb_CDWZer"
      },
      "execution_count": 2,
      "outputs": []
    },
    {
      "cell_type": "code",
      "source": [
        "# Somme des victoires\n",
        "nombre_victoires = df['w'].sum()"
      ],
      "metadata": {
        "colab": {
          "base_uri": "https://localhost:8080/",
          "height": 158
        },
        "id": "0IeAEpxQWr3O",
        "outputId": "89916ed9-5531-4a16-815c-49988f09f904"
      },
      "execution_count": 3,
      "outputs": [
        {
          "output_type": "error",
          "ename": "NameError",
          "evalue": "name 'df' is not defined",
          "traceback": [
            "\u001b[0;31m---------------------------------------------------------------------------\u001b[0m",
            "\u001b[0;31mNameError\u001b[0m                                 Traceback (most recent call last)",
            "\u001b[0;32m<ipython-input-3-2d561354a044>\u001b[0m in \u001b[0;36m<cell line: 2>\u001b[0;34m()\u001b[0m\n\u001b[1;32m      1\u001b[0m \u001b[0;31m# Somme des victoires\u001b[0m\u001b[0;34m\u001b[0m\u001b[0;34m\u001b[0m\u001b[0m\n\u001b[0;32m----> 2\u001b[0;31m \u001b[0mnombre_victoires\u001b[0m \u001b[0;34m=\u001b[0m \u001b[0mdf\u001b[0m\u001b[0;34m[\u001b[0m\u001b[0;34m'w'\u001b[0m\u001b[0;34m]\u001b[0m\u001b[0;34m.\u001b[0m\u001b[0msum\u001b[0m\u001b[0;34m(\u001b[0m\u001b[0;34m)\u001b[0m\u001b[0;34m\u001b[0m\u001b[0;34m\u001b[0m\u001b[0m\n\u001b[0m",
            "\u001b[0;31mNameError\u001b[0m: name 'df' is not defined"
          ]
        }
      ]
    },
    {
      "cell_type": "code",
      "source": [
        " # Somme des matchs joués\n",
        "nombre_matchs_joues = df[['w', 'D', 'L']].astype(int).sum().sum()"
      ],
      "metadata": {
        "id": "p8JvzC9WW70T"
      },
      "execution_count": 17,
      "outputs": []
    },
    {
      "cell_type": "code",
      "source": [
        "#Calcul du pourcentage de victoires :\n",
        "pourcentage_victoires = (nombre_victoires / nombre_matchs_joues) * 100"
      ],
      "metadata": {
        "id": "wlF44KHPW9xI"
      },
      "execution_count": 20,
      "outputs": []
    },
    {
      "cell_type": "code",
      "source": [
        "#Affichage du pourcentage de victoires :\n",
        "print(\"Pourcentage moyen de victoires :\", pourcentage_victoires)"
      ],
      "metadata": {
        "colab": {
          "base_uri": "https://localhost:8080/"
        },
        "id": "9DY9M69hX5ch",
        "outputId": "514e6c17-0281-4a88-de58-a7d47f29dfe6"
      },
      "execution_count": 22,
      "outputs": [
        {
          "output_type": "stream",
          "name": "stdout",
          "text": [
            "Pourcentage moyen de victoires : 61.01973684210527\n"
          ]
        }
      ]
    },
    {
      "cell_type": "code",
      "source": [
        "# Calcul des statistiques\n",
        "#Conversion des colonnes en entiers :\n",
        "df['D'] = df['D'].astype(int)\n",
        "df['L'] = df['L'].astype(int)\n",
        "\n",
        "# Nombre de matchs nuls\n",
        "nombre_matchs_nuls = df['D'].sum()  # Somme des matchs nuls\n",
        "# Nombre de matchs joués\n",
        "nombre_matchs_joues = df[['W', 'D', 'L']].sum().sum()  # Somme des matchs joués\n",
        "\n",
        "# Calcul du pourcentage de matchs nuls\n",
        "pourcentage_matchs_nuls = (nombre_matchs_nuls / nombre_matchs_joues) * 100\n",
        "\n",
        "print(\"Pourcentage moyen de matchs nuls :\", pourcentage_matchs_nuls)"
      ],
      "metadata": {
        "colab": {
          "base_uri": "https://localhost:8080/"
        },
        "id": "rUpujLXiZAmn",
        "outputId": "2c1306c2-131b-4f29-c241-2135f3f04940"
      },
      "execution_count": 28,
      "outputs": [
        {
          "output_type": "stream",
          "name": "stdout",
          "text": [
            "Pourcentage moyen de matchs nuls : 22.039473684210524\n"
          ]
        }
      ]
    },
    {
      "cell_type": "code",
      "source": [
        "import os\n",
        "import pandas as pd\n",
        "import requests as req\n",
        "from bs4 import BeautifulSoup as BS\n",
        "import logging\n",
        "from sklearn.model_selection import train_test_split\n",
        "from sklearn.linear_model import LinearRegression\n",
        "from sklearn.metrics import mean_absolute_error\n",
        "\n",
        "# Constants\n",
        "sofifa_url = \"https://www.laliga.com/en-ES/laliga-easports/standing\"\n",
        "COLUMNS = [\"position\", \"team\", \"Points\", \"W\", \"D\", \"L\", \"GF\", \"GA\", \"GD\"]\n",
        "ID_seasonId = [\"2018/2019\", \"2019/2020\", \"2020/2021\", \"2021/2022\", \"2022/2023\"]\n",
        "headers = {'User-Agent': 'Mozilla/5.0 (Macintosh; Intel Mac OS X 10_11_5) AppleWebKit/537.36 (KHTML, like Gecko) Chrome/50.0.2661.102 Safari/537.36'}\n",
        "logging.basicConfig(level=logging.INFO)\n",
        "dataset_url = \"./DataSet\"\n",
        "os.makedirs(dataset_url, exist_ok=True)\n",
        "\n",
        "def fetch_data(season):\n",
        "    teams_list = []\n",
        "    response = req.get(sofifa_url, headers=headers)\n",
        "    if response.status_code == req.codes.ok:\n",
        "        soup = BS(response.content, \"lxml\")\n",
        "        rows = soup.select(\"div.styled__StandingTabBody-sc-e89col-0.isRHqh\")\n",
        "        for row in rows:\n",
        "            team_data = []\n",
        "            try:\n",
        "                position = row.find(\"div\", class_=\"styled__Td-sc-e89col-10 fTFWtb\").find(\"p\").text.strip()\n",
        "                team = row.find(\"div\", class_=\"styled__ShieldContainer-sc-1opls7r-0 eIaTDi shield-desktop\").find(\"p\").text.strip()\n",
        "                points = row.find_all(\"div\", class_=\"styled__Td-sc-e89col-10 feNufd\")[0].find(\"p\").text.strip()\n",
        "                w = row.find_all(\"div\", class_=\"styled__Td-sc-e89col-10 feNufd\")[1].find(\"p\").text.strip()\n",
        "                d = row.find_all(\"div\", class_=\"styled__Td-sc-e89col-10 feNufd\")[2].find(\"p\").text.strip()\n",
        "                l = row.find_all(\"div\", class_=\"styled__Td-sc-e89col-10 feNufd\")[3].find(\"p\").text.strip()\n",
        "                gf = row.find_all(\"div\", class_=\"styled__Td-sc-e89col-10 feNufd\")[4].find(\"p\").text.strip()\n",
        "                ga = row.find_all(\"div\", class_=\"styled__Td-sc-e89col-10 feNufd\")[5].find(\"p\").text.strip()\n",
        "                gd = row.find_all(\"div\", class_=\"styled__Td-sc-e89col-10 feNufd\")[6].find(\"p\").text.strip()\n",
        "\n",
        "                team_data.extend([season, position, team, points, w, d, l, gf, ga, gd])\n",
        "                teams_list.append(team_data)\n",
        "            except Exception as e:\n",
        "                logging.error(f\"Error parsing row: {e}\")\n",
        "                continue\n",
        "    else:\n",
        "        logging.error(f\"Failed to retrieve data for season {season}\")\n",
        "    return teams_list\n",
        "\n",
        "# Fetching data for all seasons\n",
        "all_teams_list = []\n",
        "for season in ID_seasonId:\n",
        "    all_teams_list.extend(fetch_data(season))\n",
        "\n",
        "df = pd.DataFrame(all_teams_list, columns=[\"season\"] + COLUMNS)\n",
        "df.to_csv(os.path.join(dataset_url, \"all_seasons.csv\"), header=True, index=False)\n",
        "\n",
        "# Data preprocessing and feature engineering\n",
        "df['W'] = df['W'].astype(int)\n",
        "df['D'] = df['D'].astype(int)\n",
        "df['L'] = df['L'].astype(int)\n",
        "df['GF'] = df['GF'].astype(int)\n",
        "df['GA'] = df['GA'].astype(int)\n",
        "df['GD'] = df['GD'].astype(int)\n",
        "df['Points'] = df['Points'].astype(int)\n",
        "df['PLAYED'] = df['W'] + df['D'] + df['L']\n",
        "\n",
        "# Calculating the target variables\n",
        "df['Win_Percentage'] = (df['W'] / df['PLAYED']) * 100\n",
        "df['Draw_Percentage'] = (df['D'] / df['PLAYED']) * 100\n",
        "\n",
        "# Model training\n",
        "X = df[['Points', 'GF', 'GA', 'GD']].values\n",
        "y_win = df['Win_Percentage'].values\n",
        "y_draw = df['Draw_Percentage'].values\n",
        "\n",
        "X_train, X_test, y_train_win, y_test_win = train_test_split(X, y_win, test_size=0.2, random_state=42)\n",
        "X_train, X_test, y_train_draw, y_test_draw = train_test_split(X, y_draw, test_size=0.2, random_state=42)\n",
        "\n",
        "model_win = LinearRegression()\n",
        "model_draw = LinearRegression()\n",
        "\n",
        "model_win.fit(X_train, y_train_win)\n",
        "model_draw.fit(X_train, y_train_draw)\n",
        "\n",
        "# Evaluation\n",
        "y_pred_win = model_win.predict(X_test)\n",
        "y_pred_draw = model_draw.predict(X_test)\n",
        "\n",
        "mae_win = mean_absolute_error(y_test_win, y_pred_win)\n",
        "mae_draw = mean_absolute_error(y_test_draw, y_pred_draw)\n",
        "\n",
        "print(\"Mean Absolute Error for Win Percentage:\", mae_win)\n",
        "print(\"Mean Absolute Error for Draw Percentage:\", mae_draw)\n",
        "\n",
        "# Predicting for 2024 (assuming some hypothetical data)\n",
        "# Replace this with actual data for the prediction year\n",
        "hypothetical_data = [[85, 80, 40, 40]]  # Example: [Points, GF, GA, GD]\n",
        "pred_win_percentage_2024 = model_win.predict(hypothetical_data)\n",
        "pred_draw_percentage_2024 = model_draw.predict(hypothetical_data)\n",
        "\n",
        "print(\"Predicted Win Percentage for 2024:\", pred_win_percentage_2024[0])\n",
        "print(\"Predicted Draw Percentage for 2024:\", pred_draw_percentage_2024[0])"
      ],
      "metadata": {
        "colab": {
          "base_uri": "https://localhost:8080/"
        },
        "id": "4yRfD2OhdPX2",
        "outputId": "8e289019-8d64-40a7-a56d-b1700f42d159"
      },
      "execution_count": 38,
      "outputs": [
        {
          "output_type": "stream",
          "name": "stdout",
          "text": [
            "Mean Absolute Error for Win Percentage: 2.1753479557400186\n",
            "Mean Absolute Error for Draw Percentage: 3.142191948484016\n",
            "Predicted Win Percentage for 2024: 119.73132878196337\n",
            "Predicted Draw Percentage for 2024: 31.315417392959056\n"
          ]
        }
      ]
    },
    {
      "cell_type": "code",
      "source": [],
      "metadata": {
        "id": "C-xj31ADdfUg"
      },
      "execution_count": 38,
      "outputs": []
    }
  ]
}