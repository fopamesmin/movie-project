{
  "nbformat": 4,
  "nbformat_minor": 0,
  "metadata": {
    "colab": {
      "provenance": [],
      "include_colab_link": true
    },
    "kernelspec": {
      "name": "python3",
      "display_name": "Python 3"
    },
    "language_info": {
      "name": "python"
    }
  },
  "cells": [
    {
      "cell_type": "markdown",
      "metadata": {
        "id": "view-in-github",
        "colab_type": "text"
      },
      "source": [
        "<a href=\"https://colab.research.google.com/github/fopamesmin/movie-project/blob/main/ligue.ipynb\" target=\"_parent\"><img src=\"https://colab.research.google.com/assets/colab-badge.svg\" alt=\"Open In Colab\"/></a>"
      ]
    },
    {
      "cell_type": "code",
      "source": [
        "pip install colorama"
      ],
      "metadata": {
        "colab": {
          "base_uri": "https://localhost:8080/"
        },
        "id": "2VQbNDkZ2xNn",
        "outputId": "54e72b05-5768-4a77-e98d-54a9d7d3f5d6"
      },
      "execution_count": 1,
      "outputs": [
        {
          "output_type": "stream",
          "name": "stdout",
          "text": [
            "Collecting colorama\n",
            "  Downloading colorama-0.4.6-py2.py3-none-any.whl (25 kB)\n",
            "Installing collected packages: colorama\n",
            "Successfully installed colorama-0.4.6\n"
          ]
        }
      ]
    },
    {
      "cell_type": "code",
      "source": [
        "from google.colab import drive\n",
        "drive.mount('/content/drive')"
      ],
      "metadata": {
        "colab": {
          "base_uri": "https://localhost:8080/"
        },
        "id": "alXwaYqc2wbX",
        "outputId": "1ad21b54-d102-4e89-ac0b-6cacaa24111a"
      },
      "execution_count": 2,
      "outputs": [
        {
          "output_type": "stream",
          "name": "stdout",
          "text": [
            "Mounted at /content/drive\n"
          ]
        }
      ]
    },
    {
      "cell_type": "code",
      "source": [
        "dataset_url = \"/content/drive/MyDrive/DataSet\""
      ],
      "metadata": {
        "id": "XnpRku762-ZF"
      },
      "execution_count": 3,
      "outputs": []
    },
    {
      "cell_type": "code",
      "execution_count": 2,
      "metadata": {
        "colab": {
          "base_uri": "https://localhost:8080/"
        },
        "id": "1Yksm21Ryglk",
        "outputId": "0f679478-0984-48ec-fcc2-e7b5cd5665a2"
      },
      "outputs": [
        {
          "output_type": "stream",
          "name": "stdout",
          "text": [
            "Data for season 2023/2024:\n",
            "    position                    team points PLAYED WON DRAWN LOST  GF Diff\n",
            "0         1     PARIS SAINT-GERMAIN     76     34  10     2   81  33     \n",
            "1         2               AS MONACO     67     34   7     7   68  42     \n",
            "2         3       STADE BRESTOIS 29     61     34  10     7   53  34     \n",
            "3         4              LOSC LILLE     59     34  11     7   52  34     \n",
            "4         5                OGC NICE     55     34  10     9   40  29     \n",
            "5         6      OLYMPIQUE LYONNAIS     53     34   5    13   49  55     \n",
            "6         7                 RC LENS     51     34   9    11   45  37     \n",
            "7         8  OLYMPIQUE DE MARSEILLE     50     34  11    10   52  41     \n",
            "8         9          STADE DE REIMS     47     34   8    13   42  47     \n",
            "9        10        STADE RENNAIS FC     46     34  10    12   53  46     \n",
            "10       11             TOULOUSE FC     43     34  10    13   42  46     \n",
            "11       12  MONTPELLIER HÉRAULT SC     41     34  12    12   43  48     \n",
            "12       13    RC STRASBOURG ALSACE     39     34   9    15   38  50     \n",
            "13       14               FC NANTES     33     34   6    19   30  55     \n",
            "14       15     HAVRE ATHLETIC CLUB     32     34  11    16   34  45     \n",
            "15       16                 FC METZ     29     34   5    21   35  58     \n",
            "16       17              FC LORIENT     29     34   8    19   43  66     \n",
            "17       18        CLERMONT FOOT 63     25     34  10    19   26  60     \n"
          ]
        }
      ],
      "source": [
        "import os\n",
        "import pandas as pd\n",
        "import requests as req\n",
        "from bs4 import BeautifulSoup as BS\n",
        "import logging\n",
        "\n",
        "# Constants\n",
        "sofifa_url = \"https://www.ligue1.com/ranking\"\n",
        "COLUMNS = [\"position\", \"team\", \"points\", \"PLAYED\", \"WON\", \"DRAWN\", \"LOST\", \"GF\", \"Diff\"]\n",
        "# COLUMNS = [\"position\", \"team\", \"points\", \"PLAYED\", \"WON\", \"DRAWN\", \"LOST\", \"GF\", \"GA\", \"Diff\"]\n",
        "ID_seasonId = [\"2023/2024\"]\n",
        "\n",
        "headers = {'User-Agent': 'Mozilla/5.0 (Macintosh; Intel Mac OS X 10_11_5) AppleWebKit/537.36 (KHTML, like Gecko) Chrome/50.0.2661.102 Safari/537.36'}\n",
        "\n",
        "logging.basicConfig(level=logging.INFO)\n",
        "\n",
        "\n",
        "\n",
        "for season in ID_seasonId:\n",
        "    players_list = []\n",
        "\n",
        "    response = req.get(sofifa_url, headers=headers)\n",
        "\n",
        "    if response.status_code == req.codes.ok:\n",
        "        soup = BS(response.content, \"lxml\")\n",
        "        ul_list = soup.select(\"div.classement-table-body ul\")\n",
        "\n",
        "        for ul in ul_list:\n",
        "            li_list = ul.find_all(\"li\", class_=\"GeneralStats-row\")\n",
        "\n",
        "            for li in li_list:\n",
        "                player = []\n",
        "                position = li.find(\"div\", class_=\"GeneralStats-item--position\").text.strip()\n",
        "                team = li.find(\"div\", class_=\"GeneralStats-item--club\").find(\"span\", class_=\"desktop-item\").text.strip()\n",
        "                points = li.find(\"div\", class_=\"GeneralStats-item--points\").text.strip()\n",
        "                played = li.find_all(\"div\", class_=\"GeneralStats-item\")[3].text.strip()\n",
        "                won = li.find_all(\"div\", class_=\"GeneralStats-item RankPage-mobileHide\")[1].text.strip()\n",
        "                drawn = li.find_all(\"div\", class_=\"GeneralStats-item RankPage-mobileHide\")[2].text.strip()\n",
        "                lost = li.find_all(\"div\", class_=\"GeneralStats-item RankPage-mobileHide\")[3].text.strip()\n",
        "                gf = li.find_all(\"div\", class_=\"GeneralStats-item RankPage-mobileHide\")[4].text.strip()\n",
        "                # ga = li.find_all(\"div\", class_=\"GeneralStats-item RankPage-mobileHide\")[5].text.strip()\n",
        "                diff = li.find_all(\"div\", class_=\"GeneralStats-item\")[10].text.strip()\n",
        "\n",
        "                # player.extend([position, team, points, played, won, drawn, lost, gf, ga, diff])\n",
        "                player.extend([position, team, points, played, won, drawn, lost, gf, diff])\n",
        "                players_list.append(player)\n",
        "\n",
        "    else:\n",
        "        logging.error(f\"Failed to retrieve data for season {season}\")\n",
        "\n",
        "    df = pd.DataFrame(players_list, columns=COLUMNS)\n",
        "    print(f\"Data for season {season}:\\n\",df)\n",
        "    # df.read()\n",
        "    # df.to_csv(path.join(dataset_url+\".csv\"),header=True, index=False)\n",
        "    #df.to_csv(os.path.join(dataset_url, f\"{season}.csv\"), header=True, index=False)\n",
        "\n",
        "\n"
      ]
    }
  ]
}