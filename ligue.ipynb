{
  "nbformat": 4,
  "nbformat_minor": 0,
  "metadata": {
    "colab": {
      "provenance": [],
      "include_colab_link": true
    },
    "kernelspec": {
      "name": "python3",
      "display_name": "Python 3"
    },
    "language_info": {
      "name": "python"
    }
  },
  "cells": [
    {
      "cell_type": "markdown",
      "metadata": {
        "id": "view-in-github",
        "colab_type": "text"
      },
      "source": [
        "<a href=\"https://colab.research.google.com/github/fopamesmin/movie-project/blob/main/ligue.ipynb\" target=\"_parent\"><img src=\"https://colab.research.google.com/assets/colab-badge.svg\" alt=\"Open In Colab\"/></a>"
      ]
    },
    {
      "cell_type": "code",
      "source": [
        "pip install colorama"
      ],
      "metadata": {
        "colab": {
          "base_uri": "https://localhost:8080/"
        },
        "id": "2VQbNDkZ2xNn",
        "outputId": "54e72b05-5768-4a77-e98d-54a9d7d3f5d6"
      },
      "execution_count": null,
      "outputs": [
        {
          "output_type": "stream",
          "name": "stdout",
          "text": [
            "Collecting colorama\n",
            "  Downloading colorama-0.4.6-py2.py3-none-any.whl (25 kB)\n",
            "Installing collected packages: colorama\n",
            "Successfully installed colorama-0.4.6\n"
          ]
        }
      ]
    },
    {
      "cell_type": "code",
      "source": [
        "from google.colab import drive\n",
        "drive.mount('/content/drive')"
      ],
      "metadata": {
        "colab": {
          "base_uri": "https://localhost:8080/"
        },
        "id": "alXwaYqc2wbX",
        "outputId": "1ad21b54-d102-4e89-ac0b-6cacaa24111a"
      },
      "execution_count": null,
      "outputs": [
        {
          "output_type": "stream",
          "name": "stdout",
          "text": [
            "Mounted at /content/drive\n"
          ]
        }
      ]
    },
    {
      "cell_type": "code",
      "source": [
        "dataset_url = \"/content/drive/MyDrive/DataSet\""
      ],
      "metadata": {
        "id": "XnpRku762-ZF"
      },
      "execution_count": null,
      "outputs": []
    },
    {
      "cell_type": "code",
      "source": [
        "import requests as req\n",
        "from bs4 import BeautifulSoup as BS\n",
        "import logging\n",
        "import pandas as pd\n",
        "from tabulate import tabulate\n",
        "\n",
        "# Constantes\n",
        "sofifa_url = \"https://www.ligue1.com/ranking\"\n",
        "COLUMNS = [\"position\", \"team\", \"points\", \"played\", \"won\", \"drawn\", \"lost\", \"gf\", \"ga\"]\n",
        "ID_seasonId = [\"2020/2021\", \"2021/2022\", \"2022/2023\"]\n",
        "headers = {'User-Agent': 'Mozilla/5.0 (Macintosh; Intel Mac OS X 10_11_5) AppleWebKit/537.36 (KHTML, like Gecko) Chrome/50.0.2661.102 Safari/537.36'}\n",
        "logging.basicConfig(level=logging.INFO)\n",
        "\n",
        "def fetch_data(season):\n",
        "    teams_list = []\n",
        "    response = req.get(sofifa_url, headers=headers)\n",
        "    if response.status_code == req.codes.ok:\n",
        "        soup = BS(response.content, \"lxml\")\n",
        "        ul_list = soup.select(\"div.classement-table-body ul\")\n",
        "\n",
        "        for ul in ul_list:\n",
        "            li_list = ul.find_all(\"li\", class_=\"GeneralStats-row\")\n",
        "\n",
        "            for li in li_list:\n",
        "                team_data = []\n",
        "                try:\n",
        "                    position = li.find(\"div\", class_=\"GeneralStats-item--position\").text.strip()\n",
        "                    team = li.find(\"div\", class_=\"GeneralStats-item--club\").find(\"span\", class_=\"desktop-item\").text.strip()\n",
        "                    points = li.find(\"div\", class_=\"GeneralStats-item--points\").text.strip()\n",
        "                    stats = li.find_all(\"div\", class_=\"GeneralStats-item\")\n",
        "\n",
        "                    if len(stats) >= 11:  # Vérifier qu'il y a suffisamment d'éléments dans la liste\n",
        "                        played = stats[3].text.strip()\n",
        "                        won = stats[4].text.strip()\n",
        "                        drawn = stats[5].text.strip()\n",
        "                        lost = stats[6].text.strip()\n",
        "                        gf = stats[7].text.strip()\n",
        "                        ga = stats[8].text.strip()\n",
        "                    else:\n",
        "                        logging.error(f\"Not enough stats found for team: {team}\")\n",
        "                        continue\n",
        "\n",
        "                    team_data.extend([season, position, team, points, played, won, drawn, lost, gf, ga])\n",
        "                    teams_list.append(team_data)\n",
        "                except Exception as e:\n",
        "                    logging.error(f\"Error parsing row: {e}\")\n",
        "                    continue\n",
        "    else:\n",
        "        logging.error(f\"Failed to retrieve data for season {season}\")\n",
        "    return teams_list\n",
        "\n",
        "# Extraction des données pour toutes les saisons\n",
        "all_teams_list = []\n",
        "for season in ID_seasonId:\n",
        "    all_teams_list.extend(fetch_data(season))\n",
        "\n",
        "# Convertir la liste en DataFrame pandas\n",
        "df = pd.DataFrame(all_teams_list, columns=[\"Season\", \"Position\", \"Team\", \"Points\", \"Played\", \"Won\", \"Drawn\", \"Lost\", \"GF\", \"GA\"])\n",
        "\n",
        "# Convertir les colonnes en types numériques\n",
        "df['Points'] = pd.to_numeric(df['Points'], errors='coerce')\n",
        "df['Played'] = pd.to_numeric(df['Played'], errors='coerce')\n",
        "df['Won'] = pd.to_numeric(df['Won'], errors='coerce')\n",
        "df['Drawn'] = pd.to_numeric(df['Drawn'], errors='coerce')\n",
        "df['Lost'] = pd.to_numeric(df['Lost'], errors='coerce')\n",
        "df['GF'] = pd.to_numeric(df['GF'], errors='coerce')\n",
        "df['GA'] = pd.to_numeric(df['GA'], errors='coerce')\n",
        "\n",
        "# Calculer le nombre total de matchs joués, de matchs nuls et de matchs gagnés\n",
        "total_played = df['Played'].sum()\n",
        "total_drawn = df['Drawn'].sum()\n",
        "total_won = df['Won'].sum()\n",
        "\n",
        "# Calculer les pourcentages totaux\n",
        "total_draw_percentage = (total_drawn / total_played) * 100 if total_played > 0 else 0\n",
        "total_win_percentage = (total_won / total_played) * 100 if total_played > 0 else 0\n",
        "\n",
        "# Afficher les résultats\n",
        "print(\"Données extraites pour les saisons:\")\n",
        "print(tabulate(all_teams_list, headers=[\"Season\", \"Position\", \"Team\", \"Points\", \"Played\", \"Won\", \"Drawn\", \"Lost\", \"GF\", \"GA\"]))\n",
        "\n",
        "print(\"\\nPourcentage total de matchs nuls:\", total_draw_percentage)\n",
        "print(\"Pourcentage total de matchs gagnés:\", total_win_percentage)"
      ],
      "metadata": {
        "colab": {
          "base_uri": "https://localhost:8080/"
        },
        "id": "s1SrNOkVvJO3",
        "outputId": "f54d82c0-8df1-41bf-a54a-f1ab5d2ef7ee"
      },
      "execution_count": null,
      "outputs": [
        {
          "output_type": "stream",
          "name": "stdout",
          "text": [
            "Données extraites pour les saisons:\n",
            "Season       Position  Team                      Points    Played    Won    Drawn    Lost    GF    GA\n",
            "---------  ----------  ----------------------  --------  --------  -----  -------  ------  ----  ----\n",
            "2020/2021           1  PARIS SAINT-GERMAIN           76        34     22       10       2    81    33\n",
            "2020/2021           2  AS MONACO                     67        34     20        7       7    68    42\n",
            "2020/2021           3  STADE BRESTOIS 29             61        34     17       10       7    53    34\n",
            "2020/2021           4  LOSC LILLE                    59        34     16       11       7    52    34\n",
            "2020/2021           5  OGC NICE                      55        34     15       10       9    40    29\n",
            "2020/2021           6  OLYMPIQUE LYONNAIS            53        34     16        5      13    49    55\n",
            "2020/2021           7  RC LENS                       51        34     14        9      11    45    37\n",
            "2020/2021           8  OLYMPIQUE DE MARSEILLE        50        34     13       11      10    52    41\n",
            "2020/2021           9  STADE DE REIMS                47        34     13        8      13    42    47\n",
            "2020/2021          10  STADE RENNAIS FC              46        34     12       10      12    53    46\n",
            "2020/2021          11  TOULOUSE FC                   43        34     11       10      13    42    46\n",
            "2020/2021          12  MONTPELLIER HÉRAULT SC        41        34     10       12      12    43    48\n",
            "2020/2021          13  RC STRASBOURG ALSACE          39        34     10        9      15    38    50\n",
            "2020/2021          14  FC NANTES                     33        34      9        6      19    30    55\n",
            "2020/2021          15  HAVRE ATHLETIC CLUB           32        34      7       11      16    34    45\n",
            "2020/2021          16  FC METZ                       29        34      8        5      21    35    58\n",
            "2020/2021          17  FC LORIENT                    29        34      7        8      19    43    66\n",
            "2020/2021          18  CLERMONT FOOT 63              25        34      5       10      19    26    60\n",
            "2021/2022           1  PARIS SAINT-GERMAIN           76        34     22       10       2    81    33\n",
            "2021/2022           2  AS MONACO                     67        34     20        7       7    68    42\n",
            "2021/2022           3  STADE BRESTOIS 29             61        34     17       10       7    53    34\n",
            "2021/2022           4  LOSC LILLE                    59        34     16       11       7    52    34\n",
            "2021/2022           5  OGC NICE                      55        34     15       10       9    40    29\n",
            "2021/2022           6  OLYMPIQUE LYONNAIS            53        34     16        5      13    49    55\n",
            "2021/2022           7  RC LENS                       51        34     14        9      11    45    37\n",
            "2021/2022           8  OLYMPIQUE DE MARSEILLE        50        34     13       11      10    52    41\n",
            "2021/2022           9  STADE DE REIMS                47        34     13        8      13    42    47\n",
            "2021/2022          10  STADE RENNAIS FC              46        34     12       10      12    53    46\n",
            "2021/2022          11  TOULOUSE FC                   43        34     11       10      13    42    46\n",
            "2021/2022          12  MONTPELLIER HÉRAULT SC        41        34     10       12      12    43    48\n",
            "2021/2022          13  RC STRASBOURG ALSACE          39        34     10        9      15    38    50\n",
            "2021/2022          14  FC NANTES                     33        34      9        6      19    30    55\n",
            "2021/2022          15  HAVRE ATHLETIC CLUB           32        34      7       11      16    34    45\n",
            "2021/2022          16  FC METZ                       29        34      8        5      21    35    58\n",
            "2021/2022          17  FC LORIENT                    29        34      7        8      19    43    66\n",
            "2021/2022          18  CLERMONT FOOT 63              25        34      5       10      19    26    60\n",
            "2022/2023           1  PARIS SAINT-GERMAIN           76        34     22       10       2    81    33\n",
            "2022/2023           2  AS MONACO                     67        34     20        7       7    68    42\n",
            "2022/2023           3  STADE BRESTOIS 29             61        34     17       10       7    53    34\n",
            "2022/2023           4  LOSC LILLE                    59        34     16       11       7    52    34\n",
            "2022/2023           5  OGC NICE                      55        34     15       10       9    40    29\n",
            "2022/2023           6  OLYMPIQUE LYONNAIS            53        34     16        5      13    49    55\n",
            "2022/2023           7  RC LENS                       51        34     14        9      11    45    37\n",
            "2022/2023           8  OLYMPIQUE DE MARSEILLE        50        34     13       11      10    52    41\n",
            "2022/2023           9  STADE DE REIMS                47        34     13        8      13    42    47\n",
            "2022/2023          10  STADE RENNAIS FC              46        34     12       10      12    53    46\n",
            "2022/2023          11  TOULOUSE FC                   43        34     11       10      13    42    46\n",
            "2022/2023          12  MONTPELLIER HÉRAULT SC        41        34     10       12      12    43    48\n",
            "2022/2023          13  RC STRASBOURG ALSACE          39        34     10        9      15    38    50\n",
            "2022/2023          14  FC NANTES                     33        34      9        6      19    30    55\n",
            "2022/2023          15  HAVRE ATHLETIC CLUB           32        34      7       11      16    34    45\n",
            "2022/2023          16  FC METZ                       29        34      8        5      21    35    58\n",
            "2022/2023          17  FC LORIENT                    29        34      7        8      19    43    66\n",
            "2022/2023          18  CLERMONT FOOT 63              25        34      5       10      19    26    60\n",
            "\n",
            "Pourcentage total de matchs nuls: 26.47058823529412\n",
            "Pourcentage total de matchs gagnés: 36.76470588235294\n"
          ]
        }
      ]
    },
    {
      "cell_type": "code",
      "source": [
        "import pandas as pd\n",
        "\n",
        "# Calculer le nombre total de matchs joués, de matchs nuls et de matchs gagnés\n",
        "total_played = df['Played'].sum()\n",
        "total_drawn = df['Drawn'].sum()\n",
        "total_won = df['Won'].sum()\n",
        "\n",
        "# Calculer les pourcentages totaux\n",
        "total_draw_percentage = (total_drawn / total_played) * 100 if total_played > 0 else 0\n",
        "total_win_percentage = (total_won / total_played) * 100 if total_played > 0 else 0\n",
        "\n",
        "# Prédiction pour l'année 2024\n",
        "predicted_draw_percentage_2024 = total_draw_percentage\n",
        "predicted_win_percentage_2024 = total_win_percentage\n",
        "\n",
        "print(\"Prédiction pour l'année 2024:\")\n",
        "print(\"Pourcentage prédit de matchs nuls:\", predicted_draw_percentage_2024)\n",
        "print(\"Pourcentage prédit de matchs gagnés:\", predicted_win_percentage_2024)"
      ],
      "metadata": {
        "colab": {
          "base_uri": "https://localhost:8080/"
        },
        "id": "T7b45A3g2pSt",
        "outputId": "5fa2a39c-b734-4bc4-e339-93fa297a58c2"
      },
      "execution_count": null,
      "outputs": [
        {
          "output_type": "stream",
          "name": "stdout",
          "text": [
            "Prédiction pour l'année 2024:\n",
            "Pourcentage prédit de matchs nuls: 26.47058823529412\n",
            "Pourcentage prédit de matchs gagnés: 36.76470588235294\n"
          ]
        }
      ]
    },
    {
      "cell_type": "code",
      "source": [],
      "metadata": {
        "id": "JIzDhmjeCaez"
      },
      "execution_count": 5,
      "outputs": []
    }
  ]
}